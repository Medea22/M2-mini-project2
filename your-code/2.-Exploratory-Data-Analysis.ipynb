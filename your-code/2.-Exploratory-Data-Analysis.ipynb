{
 "cells": [
  {
   "cell_type": "markdown",
   "metadata": {},
   "source": [
    "# Inferential statistics\n",
    "## Part II - Exploratory Data Analysis\n",
    "\n",
    "Before starting the actual analysis it's a good idea to explore the data that we will be using, to give yourself a first idea of the questions you will be able to answer with your data, the bias you could have, other data you could need, etc.\n",
    "\n",
    "### Libraries\n",
    "In addition to pandas we will also import matplolib and seaborn so that we will able to plot our data to better understand it."
   ]
  },
  {
   "cell_type": "code",
   "execution_count": 2,
   "metadata": {},
   "outputs": [],
   "source": [
    "import pandas as pd\n",
    "import matplotlib.pyplot as plt\n",
    "import seaborn as sns\n",
    "pd.set_option('max_columns', 100)"
   ]
  },
  {
   "cell_type": "markdown",
   "metadata": {},
   "source": [
    "### Explore the dataset\n",
    "\n",
    "Let's load the cleaned dataset first. Import it with the name `wnba` and show the head."
   ]
  },
  {
   "cell_type": "code",
   "execution_count": 3,
   "metadata": {},
   "outputs": [
    {
     "data": {
      "text/html": [
       "<div>\n",
       "<style scoped>\n",
       "    .dataframe tbody tr th:only-of-type {\n",
       "        vertical-align: middle;\n",
       "    }\n",
       "\n",
       "    .dataframe tbody tr th {\n",
       "        vertical-align: top;\n",
       "    }\n",
       "\n",
       "    .dataframe thead th {\n",
       "        text-align: right;\n",
       "    }\n",
       "</style>\n",
       "<table border=\"1\" class=\"dataframe\">\n",
       "  <thead>\n",
       "    <tr style=\"text-align: right;\">\n",
       "      <th></th>\n",
       "      <th>Name</th>\n",
       "      <th>Team</th>\n",
       "      <th>Pos</th>\n",
       "      <th>Height</th>\n",
       "      <th>Weight</th>\n",
       "      <th>BMI</th>\n",
       "      <th>Birth_Place</th>\n",
       "      <th>Birthdate</th>\n",
       "      <th>Age</th>\n",
       "      <th>College</th>\n",
       "      <th>Experience</th>\n",
       "      <th>Games Played</th>\n",
       "      <th>MIN</th>\n",
       "      <th>FGM</th>\n",
       "      <th>FGA</th>\n",
       "      <th>FG%</th>\n",
       "      <th>3PM</th>\n",
       "      <th>3PA</th>\n",
       "      <th>3P%</th>\n",
       "      <th>FTM</th>\n",
       "      <th>FTA</th>\n",
       "      <th>FT%</th>\n",
       "      <th>OREB</th>\n",
       "      <th>DREB</th>\n",
       "      <th>REB</th>\n",
       "      <th>AST</th>\n",
       "      <th>STL</th>\n",
       "      <th>BLK</th>\n",
       "      <th>TO</th>\n",
       "      <th>PTS</th>\n",
       "      <th>DD2</th>\n",
       "      <th>TD3</th>\n",
       "    </tr>\n",
       "  </thead>\n",
       "  <tbody>\n",
       "    <tr>\n",
       "      <th>0</th>\n",
       "      <td>Aerial Powers</td>\n",
       "      <td>DAL</td>\n",
       "      <td>F</td>\n",
       "      <td>183</td>\n",
       "      <td>71</td>\n",
       "      <td>21.200991</td>\n",
       "      <td>US</td>\n",
       "      <td>January 17, 1994</td>\n",
       "      <td>23</td>\n",
       "      <td>Michigan State</td>\n",
       "      <td>2</td>\n",
       "      <td>8</td>\n",
       "      <td>173</td>\n",
       "      <td>30</td>\n",
       "      <td>85</td>\n",
       "      <td>35.3</td>\n",
       "      <td>12</td>\n",
       "      <td>32</td>\n",
       "      <td>37.5</td>\n",
       "      <td>21</td>\n",
       "      <td>26</td>\n",
       "      <td>80.8</td>\n",
       "      <td>6</td>\n",
       "      <td>22</td>\n",
       "      <td>28</td>\n",
       "      <td>12</td>\n",
       "      <td>3</td>\n",
       "      <td>6</td>\n",
       "      <td>12</td>\n",
       "      <td>93</td>\n",
       "      <td>0</td>\n",
       "      <td>0</td>\n",
       "    </tr>\n",
       "    <tr>\n",
       "      <th>1</th>\n",
       "      <td>Alana Beard</td>\n",
       "      <td>LA</td>\n",
       "      <td>G/F</td>\n",
       "      <td>185</td>\n",
       "      <td>73</td>\n",
       "      <td>21.329438</td>\n",
       "      <td>US</td>\n",
       "      <td>May 14, 1982</td>\n",
       "      <td>35</td>\n",
       "      <td>Duke</td>\n",
       "      <td>12</td>\n",
       "      <td>30</td>\n",
       "      <td>947</td>\n",
       "      <td>90</td>\n",
       "      <td>177</td>\n",
       "      <td>50.8</td>\n",
       "      <td>5</td>\n",
       "      <td>18</td>\n",
       "      <td>27.8</td>\n",
       "      <td>32</td>\n",
       "      <td>41</td>\n",
       "      <td>78.0</td>\n",
       "      <td>19</td>\n",
       "      <td>82</td>\n",
       "      <td>101</td>\n",
       "      <td>72</td>\n",
       "      <td>63</td>\n",
       "      <td>13</td>\n",
       "      <td>40</td>\n",
       "      <td>217</td>\n",
       "      <td>0</td>\n",
       "      <td>0</td>\n",
       "    </tr>\n",
       "    <tr>\n",
       "      <th>2</th>\n",
       "      <td>Alex Bentley</td>\n",
       "      <td>CON</td>\n",
       "      <td>G</td>\n",
       "      <td>170</td>\n",
       "      <td>69</td>\n",
       "      <td>23.875433</td>\n",
       "      <td>US</td>\n",
       "      <td>October 27, 1990</td>\n",
       "      <td>26</td>\n",
       "      <td>Penn State</td>\n",
       "      <td>4</td>\n",
       "      <td>26</td>\n",
       "      <td>617</td>\n",
       "      <td>82</td>\n",
       "      <td>218</td>\n",
       "      <td>37.6</td>\n",
       "      <td>19</td>\n",
       "      <td>64</td>\n",
       "      <td>29.7</td>\n",
       "      <td>35</td>\n",
       "      <td>42</td>\n",
       "      <td>83.3</td>\n",
       "      <td>4</td>\n",
       "      <td>36</td>\n",
       "      <td>40</td>\n",
       "      <td>78</td>\n",
       "      <td>22</td>\n",
       "      <td>3</td>\n",
       "      <td>24</td>\n",
       "      <td>218</td>\n",
       "      <td>0</td>\n",
       "      <td>0</td>\n",
       "    </tr>\n",
       "    <tr>\n",
       "      <th>3</th>\n",
       "      <td>Alex Montgomery</td>\n",
       "      <td>SAN</td>\n",
       "      <td>G/F</td>\n",
       "      <td>185</td>\n",
       "      <td>84</td>\n",
       "      <td>24.543462</td>\n",
       "      <td>US</td>\n",
       "      <td>December 11, 1988</td>\n",
       "      <td>28</td>\n",
       "      <td>Georgia Tech</td>\n",
       "      <td>6</td>\n",
       "      <td>31</td>\n",
       "      <td>721</td>\n",
       "      <td>75</td>\n",
       "      <td>195</td>\n",
       "      <td>38.5</td>\n",
       "      <td>21</td>\n",
       "      <td>68</td>\n",
       "      <td>30.9</td>\n",
       "      <td>17</td>\n",
       "      <td>21</td>\n",
       "      <td>81.0</td>\n",
       "      <td>35</td>\n",
       "      <td>134</td>\n",
       "      <td>169</td>\n",
       "      <td>65</td>\n",
       "      <td>20</td>\n",
       "      <td>10</td>\n",
       "      <td>38</td>\n",
       "      <td>188</td>\n",
       "      <td>2</td>\n",
       "      <td>0</td>\n",
       "    </tr>\n",
       "    <tr>\n",
       "      <th>4</th>\n",
       "      <td>Alexis Jones</td>\n",
       "      <td>MIN</td>\n",
       "      <td>G</td>\n",
       "      <td>175</td>\n",
       "      <td>78</td>\n",
       "      <td>25.469388</td>\n",
       "      <td>US</td>\n",
       "      <td>August 5, 1994</td>\n",
       "      <td>23</td>\n",
       "      <td>Baylor</td>\n",
       "      <td>R</td>\n",
       "      <td>24</td>\n",
       "      <td>137</td>\n",
       "      <td>16</td>\n",
       "      <td>50</td>\n",
       "      <td>32.0</td>\n",
       "      <td>7</td>\n",
       "      <td>20</td>\n",
       "      <td>35.0</td>\n",
       "      <td>11</td>\n",
       "      <td>12</td>\n",
       "      <td>91.7</td>\n",
       "      <td>3</td>\n",
       "      <td>9</td>\n",
       "      <td>12</td>\n",
       "      <td>12</td>\n",
       "      <td>7</td>\n",
       "      <td>0</td>\n",
       "      <td>14</td>\n",
       "      <td>50</td>\n",
       "      <td>0</td>\n",
       "      <td>0</td>\n",
       "    </tr>\n",
       "  </tbody>\n",
       "</table>\n",
       "</div>"
      ],
      "text/plain": [
       "              Name Team  Pos  Height  Weight        BMI Birth_Place  \\\n",
       "0    Aerial Powers  DAL    F     183      71  21.200991          US   \n",
       "1      Alana Beard   LA  G/F     185      73  21.329438          US   \n",
       "2     Alex Bentley  CON    G     170      69  23.875433          US   \n",
       "3  Alex Montgomery  SAN  G/F     185      84  24.543462          US   \n",
       "4     Alexis Jones  MIN    G     175      78  25.469388          US   \n",
       "\n",
       "           Birthdate  Age         College Experience  Games Played  MIN  FGM  \\\n",
       "0   January 17, 1994   23  Michigan State          2             8  173   30   \n",
       "1       May 14, 1982   35            Duke         12            30  947   90   \n",
       "2   October 27, 1990   26      Penn State          4            26  617   82   \n",
       "3  December 11, 1988   28    Georgia Tech          6            31  721   75   \n",
       "4     August 5, 1994   23          Baylor          R            24  137   16   \n",
       "\n",
       "   FGA   FG%  3PM  3PA   3P%  FTM  FTA   FT%  OREB  DREB  REB  AST  STL  BLK  \\\n",
       "0   85  35.3   12   32  37.5   21   26  80.8     6    22   28   12    3    6   \n",
       "1  177  50.8    5   18  27.8   32   41  78.0    19    82  101   72   63   13   \n",
       "2  218  37.6   19   64  29.7   35   42  83.3     4    36   40   78   22    3   \n",
       "3  195  38.5   21   68  30.9   17   21  81.0    35   134  169   65   20   10   \n",
       "4   50  32.0    7   20  35.0   11   12  91.7     3     9   12   12    7    0   \n",
       "\n",
       "   TO  PTS  DD2  TD3  \n",
       "0  12   93    0    0  \n",
       "1  40  217    0    0  \n",
       "2  24  218    0    0  \n",
       "3  38  188    2    0  \n",
       "4  14   50    0    0  "
      ]
     },
     "execution_count": 3,
     "metadata": {},
     "output_type": "execute_result"
    }
   ],
   "source": [
    "#your code here\n",
    "\n",
    "wnba = pd.read_csv(\"/Users/medea/Documents/Ironhack/Labs_Week_5/M2-mini-project2/data/wnba_clean.csv\")\n",
    "\n",
    "wnba.head()"
   ]
  },
  {
   "cell_type": "markdown",
   "metadata": {},
   "source": [
    "**Use describe() to take an initial look at the data.**"
   ]
  },
  {
   "cell_type": "code",
   "execution_count": 4,
   "metadata": {},
   "outputs": [
    {
     "data": {
      "text/html": [
       "<div>\n",
       "<style scoped>\n",
       "    .dataframe tbody tr th:only-of-type {\n",
       "        vertical-align: middle;\n",
       "    }\n",
       "\n",
       "    .dataframe tbody tr th {\n",
       "        vertical-align: top;\n",
       "    }\n",
       "\n",
       "    .dataframe thead th {\n",
       "        text-align: right;\n",
       "    }\n",
       "</style>\n",
       "<table border=\"1\" class=\"dataframe\">\n",
       "  <thead>\n",
       "    <tr style=\"text-align: right;\">\n",
       "      <th></th>\n",
       "      <th>Height</th>\n",
       "      <th>Weight</th>\n",
       "      <th>BMI</th>\n",
       "      <th>Age</th>\n",
       "      <th>Games Played</th>\n",
       "      <th>MIN</th>\n",
       "      <th>FGM</th>\n",
       "      <th>FGA</th>\n",
       "      <th>FG%</th>\n",
       "      <th>3PM</th>\n",
       "      <th>3PA</th>\n",
       "      <th>3P%</th>\n",
       "      <th>FTM</th>\n",
       "      <th>FTA</th>\n",
       "      <th>FT%</th>\n",
       "      <th>OREB</th>\n",
       "      <th>DREB</th>\n",
       "      <th>REB</th>\n",
       "      <th>AST</th>\n",
       "      <th>STL</th>\n",
       "      <th>BLK</th>\n",
       "      <th>TO</th>\n",
       "      <th>PTS</th>\n",
       "      <th>DD2</th>\n",
       "      <th>TD3</th>\n",
       "    </tr>\n",
       "  </thead>\n",
       "  <tbody>\n",
       "    <tr>\n",
       "      <th>count</th>\n",
       "      <td>142.000000</td>\n",
       "      <td>142.000000</td>\n",
       "      <td>142.000000</td>\n",
       "      <td>142.000000</td>\n",
       "      <td>142.000000</td>\n",
       "      <td>142.000000</td>\n",
       "      <td>142.000000</td>\n",
       "      <td>142.000000</td>\n",
       "      <td>142.000000</td>\n",
       "      <td>142.000000</td>\n",
       "      <td>142.000000</td>\n",
       "      <td>142.000000</td>\n",
       "      <td>142.000000</td>\n",
       "      <td>142.000000</td>\n",
       "      <td>142.000000</td>\n",
       "      <td>142.000000</td>\n",
       "      <td>142.000000</td>\n",
       "      <td>142.000000</td>\n",
       "      <td>142.000000</td>\n",
       "      <td>142.000000</td>\n",
       "      <td>142.000000</td>\n",
       "      <td>142.000000</td>\n",
       "      <td>142.000000</td>\n",
       "      <td>142.000000</td>\n",
       "      <td>142.000000</td>\n",
       "    </tr>\n",
       "    <tr>\n",
       "      <th>mean</th>\n",
       "      <td>184.612676</td>\n",
       "      <td>78.978873</td>\n",
       "      <td>23.091214</td>\n",
       "      <td>27.112676</td>\n",
       "      <td>24.429577</td>\n",
       "      <td>500.105634</td>\n",
       "      <td>74.401408</td>\n",
       "      <td>168.704225</td>\n",
       "      <td>43.102817</td>\n",
       "      <td>14.830986</td>\n",
       "      <td>43.697183</td>\n",
       "      <td>24.978169</td>\n",
       "      <td>39.535211</td>\n",
       "      <td>49.422535</td>\n",
       "      <td>75.828873</td>\n",
       "      <td>22.063380</td>\n",
       "      <td>61.591549</td>\n",
       "      <td>83.654930</td>\n",
       "      <td>44.514085</td>\n",
       "      <td>17.725352</td>\n",
       "      <td>9.781690</td>\n",
       "      <td>32.288732</td>\n",
       "      <td>203.169014</td>\n",
       "      <td>1.140845</td>\n",
       "      <td>0.007042</td>\n",
       "    </tr>\n",
       "    <tr>\n",
       "      <th>std</th>\n",
       "      <td>8.698128</td>\n",
       "      <td>10.996110</td>\n",
       "      <td>2.073691</td>\n",
       "      <td>3.667180</td>\n",
       "      <td>7.075477</td>\n",
       "      <td>289.373393</td>\n",
       "      <td>55.980754</td>\n",
       "      <td>117.165809</td>\n",
       "      <td>9.855199</td>\n",
       "      <td>17.372829</td>\n",
       "      <td>46.155302</td>\n",
       "      <td>18.459075</td>\n",
       "      <td>36.743053</td>\n",
       "      <td>44.244697</td>\n",
       "      <td>18.536151</td>\n",
       "      <td>21.519648</td>\n",
       "      <td>49.669854</td>\n",
       "      <td>68.200585</td>\n",
       "      <td>41.490790</td>\n",
       "      <td>13.413312</td>\n",
       "      <td>12.537669</td>\n",
       "      <td>21.447141</td>\n",
       "      <td>153.032559</td>\n",
       "      <td>2.909002</td>\n",
       "      <td>0.083918</td>\n",
       "    </tr>\n",
       "    <tr>\n",
       "      <th>min</th>\n",
       "      <td>165.000000</td>\n",
       "      <td>55.000000</td>\n",
       "      <td>18.390675</td>\n",
       "      <td>21.000000</td>\n",
       "      <td>2.000000</td>\n",
       "      <td>12.000000</td>\n",
       "      <td>1.000000</td>\n",
       "      <td>3.000000</td>\n",
       "      <td>16.700000</td>\n",
       "      <td>0.000000</td>\n",
       "      <td>0.000000</td>\n",
       "      <td>0.000000</td>\n",
       "      <td>0.000000</td>\n",
       "      <td>0.000000</td>\n",
       "      <td>0.000000</td>\n",
       "      <td>0.000000</td>\n",
       "      <td>2.000000</td>\n",
       "      <td>2.000000</td>\n",
       "      <td>0.000000</td>\n",
       "      <td>0.000000</td>\n",
       "      <td>0.000000</td>\n",
       "      <td>2.000000</td>\n",
       "      <td>2.000000</td>\n",
       "      <td>0.000000</td>\n",
       "      <td>0.000000</td>\n",
       "    </tr>\n",
       "    <tr>\n",
       "      <th>25%</th>\n",
       "      <td>175.750000</td>\n",
       "      <td>71.500000</td>\n",
       "      <td>21.785876</td>\n",
       "      <td>24.000000</td>\n",
       "      <td>22.000000</td>\n",
       "      <td>242.250000</td>\n",
       "      <td>27.000000</td>\n",
       "      <td>69.000000</td>\n",
       "      <td>37.125000</td>\n",
       "      <td>0.000000</td>\n",
       "      <td>3.000000</td>\n",
       "      <td>0.000000</td>\n",
       "      <td>13.000000</td>\n",
       "      <td>17.250000</td>\n",
       "      <td>71.575000</td>\n",
       "      <td>7.000000</td>\n",
       "      <td>26.000000</td>\n",
       "      <td>34.250000</td>\n",
       "      <td>11.250000</td>\n",
       "      <td>7.000000</td>\n",
       "      <td>2.000000</td>\n",
       "      <td>14.000000</td>\n",
       "      <td>77.250000</td>\n",
       "      <td>0.000000</td>\n",
       "      <td>0.000000</td>\n",
       "    </tr>\n",
       "    <tr>\n",
       "      <th>50%</th>\n",
       "      <td>185.000000</td>\n",
       "      <td>79.000000</td>\n",
       "      <td>22.873314</td>\n",
       "      <td>27.000000</td>\n",
       "      <td>27.500000</td>\n",
       "      <td>506.000000</td>\n",
       "      <td>69.000000</td>\n",
       "      <td>152.500000</td>\n",
       "      <td>42.050000</td>\n",
       "      <td>10.500000</td>\n",
       "      <td>32.000000</td>\n",
       "      <td>30.550000</td>\n",
       "      <td>29.000000</td>\n",
       "      <td>35.500000</td>\n",
       "      <td>80.000000</td>\n",
       "      <td>13.000000</td>\n",
       "      <td>50.000000</td>\n",
       "      <td>62.500000</td>\n",
       "      <td>34.000000</td>\n",
       "      <td>15.000000</td>\n",
       "      <td>5.000000</td>\n",
       "      <td>28.000000</td>\n",
       "      <td>181.000000</td>\n",
       "      <td>0.000000</td>\n",
       "      <td>0.000000</td>\n",
       "    </tr>\n",
       "    <tr>\n",
       "      <th>75%</th>\n",
       "      <td>191.000000</td>\n",
       "      <td>86.000000</td>\n",
       "      <td>24.180715</td>\n",
       "      <td>30.000000</td>\n",
       "      <td>29.000000</td>\n",
       "      <td>752.500000</td>\n",
       "      <td>105.000000</td>\n",
       "      <td>244.750000</td>\n",
       "      <td>48.625000</td>\n",
       "      <td>22.000000</td>\n",
       "      <td>65.500000</td>\n",
       "      <td>36.175000</td>\n",
       "      <td>53.250000</td>\n",
       "      <td>66.500000</td>\n",
       "      <td>85.925000</td>\n",
       "      <td>31.000000</td>\n",
       "      <td>84.000000</td>\n",
       "      <td>116.500000</td>\n",
       "      <td>66.750000</td>\n",
       "      <td>27.500000</td>\n",
       "      <td>12.000000</td>\n",
       "      <td>48.000000</td>\n",
       "      <td>277.750000</td>\n",
       "      <td>1.000000</td>\n",
       "      <td>0.000000</td>\n",
       "    </tr>\n",
       "    <tr>\n",
       "      <th>max</th>\n",
       "      <td>206.000000</td>\n",
       "      <td>113.000000</td>\n",
       "      <td>31.555880</td>\n",
       "      <td>36.000000</td>\n",
       "      <td>32.000000</td>\n",
       "      <td>1018.000000</td>\n",
       "      <td>227.000000</td>\n",
       "      <td>509.000000</td>\n",
       "      <td>100.000000</td>\n",
       "      <td>88.000000</td>\n",
       "      <td>225.000000</td>\n",
       "      <td>100.000000</td>\n",
       "      <td>168.000000</td>\n",
       "      <td>186.000000</td>\n",
       "      <td>100.000000</td>\n",
       "      <td>113.000000</td>\n",
       "      <td>226.000000</td>\n",
       "      <td>334.000000</td>\n",
       "      <td>206.000000</td>\n",
       "      <td>63.000000</td>\n",
       "      <td>64.000000</td>\n",
       "      <td>87.000000</td>\n",
       "      <td>584.000000</td>\n",
       "      <td>17.000000</td>\n",
       "      <td>1.000000</td>\n",
       "    </tr>\n",
       "  </tbody>\n",
       "</table>\n",
       "</div>"
      ],
      "text/plain": [
       "           Height      Weight         BMI         Age  Games Played  \\\n",
       "count  142.000000  142.000000  142.000000  142.000000    142.000000   \n",
       "mean   184.612676   78.978873   23.091214   27.112676     24.429577   \n",
       "std      8.698128   10.996110    2.073691    3.667180      7.075477   \n",
       "min    165.000000   55.000000   18.390675   21.000000      2.000000   \n",
       "25%    175.750000   71.500000   21.785876   24.000000     22.000000   \n",
       "50%    185.000000   79.000000   22.873314   27.000000     27.500000   \n",
       "75%    191.000000   86.000000   24.180715   30.000000     29.000000   \n",
       "max    206.000000  113.000000   31.555880   36.000000     32.000000   \n",
       "\n",
       "               MIN         FGM         FGA         FG%         3PM  \\\n",
       "count   142.000000  142.000000  142.000000  142.000000  142.000000   \n",
       "mean    500.105634   74.401408  168.704225   43.102817   14.830986   \n",
       "std     289.373393   55.980754  117.165809    9.855199   17.372829   \n",
       "min      12.000000    1.000000    3.000000   16.700000    0.000000   \n",
       "25%     242.250000   27.000000   69.000000   37.125000    0.000000   \n",
       "50%     506.000000   69.000000  152.500000   42.050000   10.500000   \n",
       "75%     752.500000  105.000000  244.750000   48.625000   22.000000   \n",
       "max    1018.000000  227.000000  509.000000  100.000000   88.000000   \n",
       "\n",
       "              3PA         3P%         FTM         FTA         FT%        OREB  \\\n",
       "count  142.000000  142.000000  142.000000  142.000000  142.000000  142.000000   \n",
       "mean    43.697183   24.978169   39.535211   49.422535   75.828873   22.063380   \n",
       "std     46.155302   18.459075   36.743053   44.244697   18.536151   21.519648   \n",
       "min      0.000000    0.000000    0.000000    0.000000    0.000000    0.000000   \n",
       "25%      3.000000    0.000000   13.000000   17.250000   71.575000    7.000000   \n",
       "50%     32.000000   30.550000   29.000000   35.500000   80.000000   13.000000   \n",
       "75%     65.500000   36.175000   53.250000   66.500000   85.925000   31.000000   \n",
       "max    225.000000  100.000000  168.000000  186.000000  100.000000  113.000000   \n",
       "\n",
       "             DREB         REB         AST         STL         BLK          TO  \\\n",
       "count  142.000000  142.000000  142.000000  142.000000  142.000000  142.000000   \n",
       "mean    61.591549   83.654930   44.514085   17.725352    9.781690   32.288732   \n",
       "std     49.669854   68.200585   41.490790   13.413312   12.537669   21.447141   \n",
       "min      2.000000    2.000000    0.000000    0.000000    0.000000    2.000000   \n",
       "25%     26.000000   34.250000   11.250000    7.000000    2.000000   14.000000   \n",
       "50%     50.000000   62.500000   34.000000   15.000000    5.000000   28.000000   \n",
       "75%     84.000000  116.500000   66.750000   27.500000   12.000000   48.000000   \n",
       "max    226.000000  334.000000  206.000000   63.000000   64.000000   87.000000   \n",
       "\n",
       "              PTS         DD2         TD3  \n",
       "count  142.000000  142.000000  142.000000  \n",
       "mean   203.169014    1.140845    0.007042  \n",
       "std    153.032559    2.909002    0.083918  \n",
       "min      2.000000    0.000000    0.000000  \n",
       "25%     77.250000    0.000000    0.000000  \n",
       "50%    181.000000    0.000000    0.000000  \n",
       "75%    277.750000    1.000000    0.000000  \n",
       "max    584.000000   17.000000    1.000000  "
      ]
     },
     "execution_count": 4,
     "metadata": {},
     "output_type": "execute_result"
    }
   ],
   "source": [
    "#your code here\n",
    "\n",
    "wnba.describe()"
   ]
  },
  {
   "cell_type": "markdown",
   "metadata": {},
   "source": [
    "Most of the game-related stats have a very high range of values which can be explained by the fact that the dataset contains data on both players that play the majority of games and also players that may spend almost the entirety of the season on the bench.\n",
    "\n",
    "There are also some extremes in the weight and age columns. Feel free, if you'd like, to check which are the players with a very high (or low) age/weight and do some research on them. This is useful to confirm that they are simply outliers and not errors in the data."
   ]
  },
  {
   "cell_type": "code",
   "execution_count": 24,
   "metadata": {},
   "outputs": [
    {
     "data": {
      "text/plain": [
       "25    93\n",
       "57    88\n",
       "64    95\n",
       "Name: Weight, dtype: int64"
      ]
     },
     "execution_count": 24,
     "metadata": {},
     "output_type": "execute_result"
    }
   ],
   "source": [
    "#your code here\n",
    "\n",
    "wnba.loc[wnba['Height'] >= 200, 'Weight']"
   ]
  },
  {
   "cell_type": "code",
   "execution_count": 25,
   "metadata": {},
   "outputs": [
    {
     "data": {
      "text/plain": [
       "12    196\n",
       "23    191\n",
       "36    193\n",
       "41    185\n",
       "89    193\n",
       "Name: Height, dtype: int64"
      ]
     },
     "execution_count": 25,
     "metadata": {},
     "output_type": "execute_result"
    }
   ],
   "source": [
    "wnba.loc[wnba['Weight'] >= 100, 'Height']"
   ]
  },
  {
   "cell_type": "code",
   "execution_count": null,
   "metadata": {},
   "outputs": [],
   "source": [
    "# the player who are very tall are also in the most upper quartile of weight\n",
    "\n",
    "# same holds true vice versa with one exeption (player 41)\n",
    "\n",
    "# nevertheless this is not unlikely to happen since sportsmen often have a lot of muscels, which are heavy"
   ]
  },
  {
   "cell_type": "markdown",
   "metadata": {},
   "source": [
    "### Looking at the distributions of the data\n",
    "Let's take a look at the distribution of the 4 stats that describe the physical characteristics of the players.\n",
    "\n",
    "**Plot the four distributions about `height`, `weight`, `age` and `BMI`.**"
   ]
  },
  {
   "cell_type": "code",
   "execution_count": 6,
   "metadata": {},
   "outputs": [
    {
     "data": {
      "image/png": "[encoded data removed]",
      "text/plain": [
       "<Figure size 432x288 with 1 Axes>"
      ]
     },
     "metadata": {
      "needs_background": "light"
     },
     "output_type": "display_data"
    }
   ],
   "source": [
    "#your code here\n",
    "\n",
    "plt.hist(wnba[\"Height\"])\n",
    "plt.show()"
   ]
  },
  {
   "cell_type": "code",
   "execution_count": 7,
   "metadata": {},
   "outputs": [
    {
     "data": {
      "image/png": "[encoded data removed]",
      "text/plain": [
       "<Figure size 432x288 with 1 Axes>"
      ]
     },
     "metadata": {
      "needs_background": "light"
     },
     "output_type": "display_data"
    }
   ],
   "source": [
    "plt.hist(wnba[\"Weight\"])\n",
    "plt.show()"
   ]
  },
  {
   "cell_type": "code",
   "execution_count": 8,
   "metadata": {},
   "outputs": [
    {
     "data": {
      "image/png": "[encoded data removed]",
      "text/plain": [
       "<Figure size 432x288 with 1 Axes>"
      ]
     },
     "metadata": {
      "needs_background": "light"
     },
     "output_type": "display_data"
    }
   ],
   "source": [
    "plt.hist(wnba[\"Age\"])\n",
    "plt.show()"
   ]
  },
  {
   "cell_type": "code",
   "execution_count": 9,
   "metadata": {},
   "outputs": [
    {
     "data": {
      "image/png": "[encoded data removed]",
      "text/plain": [
       "<Figure size 432x288 with 1 Axes>"
      ]
     },
     "metadata": {
      "needs_background": "light"
     },
     "output_type": "display_data"
    }
   ],
   "source": [
    "plt.hist(wnba[\"BMI\"])\n",
    "plt.show()"
   ]
  },
  {
   "cell_type": "markdown",
   "metadata": {},
   "source": [
    "**What conclusions do you think we can take from this plots?**"
   ]
  },
  {
   "cell_type": "code",
   "execution_count": 10,
   "metadata": {},
   "outputs": [],
   "source": [
    "#your conclusions here\n",
    "\n",
    "# height and weight seem to have a similar distribution\n",
    "\n",
    "# age and bmi are both skrewed to the right\n",
    "\n",
    "# the bmi has just a few outliers and is mostly concetrated on the range (20-26)"
   ]
  },
  {
   "cell_type": "markdown",
   "metadata": {},
   "source": [
    "In addition to what the describe() method already told us we can see that the physical characteristics of the players (apart from the age) more or less follow a standard distribution, which is expected when looking at the distribution of values that arise from a lot of factors that are independent from each other as is the case for many physical quantities. \n",
    "\n",
    "The height distribution looks like a bimodal. This may be due to the fact that players in basketball fall under two main categories (please note that this is a very gross generalization): shorter and more agile, and taller and less agile. Therefore there are less \"average\" height players since they will neither be as agile as the shorter players nor have the same impact in the paint (that is, under the basket) as a taller player.\n",
    "\n",
    "The age distribution is a bit skewed to the right which is expected since most professional players stop playing after their prime physical years come to an end."
   ]
  },
  {
   "cell_type": "markdown",
   "metadata": {},
   "source": [
    "We could do the same for the main game stats. They are points, assists, blocks, rebounds and steals. \n",
    "\n",
    "**Now plot the distribution of the columns `REB`, `AST`, `STL`, `PTS` and `BLK` the same way you did in the last cell.**"
   ]
  },
  {
   "cell_type": "code",
   "execution_count": 11,
   "metadata": {},
   "outputs": [
    {
     "data": {
      "image/png": "[encoded data removed]",
      "text/plain": [
       "<Figure size 432x288 with 1 Axes>"
      ]
     },
     "metadata": {
      "needs_background": "light"
     },
     "output_type": "display_data"
    }
   ],
   "source": [
    "#your code here\n",
    "plt.hist(wnba[\"REB\"])\n",
    "plt.show()"
   ]
  },
  {
   "cell_type": "code",
   "execution_count": 12,
   "metadata": {},
   "outputs": [
    {
     "data": {
      "image/png": "[encoded data removed]",
      "text/plain": [
       "<Figure size 432x288 with 1 Axes>"
      ]
     },
     "metadata": {
      "needs_background": "light"
     },
     "output_type": "display_data"
    }
   ],
   "source": [
    "plt.hist(wnba[\"AST\"])\n",
    "plt.show()"
   ]
  },
  {
   "cell_type": "code",
   "execution_count": 13,
   "metadata": {},
   "outputs": [
    {
     "data": {
      "image/png": "[encoded data removed]",
      "text/plain": [
       "<Figure size 432x288 with 1 Axes>"
      ]
     },
     "metadata": {
      "needs_background": "light"
     },
     "output_type": "display_data"
    }
   ],
   "source": [
    "plt.hist(wnba[\"STL\"])\n",
    "plt.show()"
   ]
  },
  {
   "cell_type": "code",
   "execution_count": 14,
   "metadata": {},
   "outputs": [
    {
     "data": {
      "image/png": "[encoded data removed]",
      "text/plain": [
       "<Figure size 432x288 with 1 Axes>"
      ]
     },
     "metadata": {
      "needs_background": "light"
     },
     "output_type": "display_data"
    }
   ],
   "source": [
    "plt.hist(wnba[\"PTS\"])\n",
    "plt.show()"
   ]
  },
  {
   "cell_type": "code",
   "execution_count": 15,
   "metadata": {},
   "outputs": [
    {
     "data": {
      "image/png": "[encoded data removed]",
      "text/plain": [
       "<Figure size 432x288 with 1 Axes>"
      ]
     },
     "metadata": {
      "needs_background": "light"
     },
     "output_type": "display_data"
    }
   ],
   "source": [
    "plt.hist(wnba[\"BLK\"])\n",
    "plt.show()"
   ]
  },
  {
   "cell_type": "markdown",
   "metadata": {},
   "source": [
    "**What conclusions do you think we can take from this plots?**"
   ]
  },
  {
   "cell_type": "code",
   "execution_count": 16,
   "metadata": {},
   "outputs": [],
   "source": [
    "#your conclusions here\n",
    "\n",
    "# they are all very much skrewed to the right\n",
    "\n",
    "# which occurs because most players did not play much or are not that good and just a few played a lot AND had an\n",
    "# outstanding performance"
   ]
  },
  {
   "cell_type": "markdown",
   "metadata": {},
   "source": [
    "As expected all of the above distribution are heavily skewed to the right, since most players will have very low to average stats while there will be a handful of star players whose stats peak above everyone else. It is also important to think about the fact that we are simply taking the stats as they are without considering the minutes played by each player. Even though skill plays a very important factor in determining this kind of stats we also have to consider that players that play more minutes will, on average, score more points (or blocks, assists, etc.)."
   ]
  },
  {
   "cell_type": "markdown",
   "metadata": {},
   "source": [
    "**For the sake of it let's look at the same distributions by dividing those stats by the minutes played for each player in the dataset.** "
   ]
  },
  {
   "cell_type": "code",
   "execution_count": 17,
   "metadata": {},
   "outputs": [
    {
     "data": {
      "image/png": "[encoded data removed]",
      "text/plain": [
       "<Figure size 432x288 with 1 Axes>"
      ]
     },
     "metadata": {
      "needs_background": "light"
     },
     "output_type": "display_data"
    }
   ],
   "source": [
    "#your code here\n",
    "plt.hist(wnba[\"REB\"]/wnba[\"MIN\"])\n",
    "plt.show()\n"
   ]
  },
  {
   "cell_type": "code",
   "execution_count": 18,
   "metadata": {},
   "outputs": [
    {
     "data": {
      "image/png": "[encoded data removed]",
      "text/plain": [
       "<Figure size 432x288 with 1 Axes>"
      ]
     },
     "metadata": {
      "needs_background": "light"
     },
     "output_type": "display_data"
    }
   ],
   "source": [
    "plt.hist(wnba[\"AST\"]/wnba[\"MIN\"])\n",
    "plt.show()"
   ]
  },
  {
   "cell_type": "code",
   "execution_count": 19,
   "metadata": {},
   "outputs": [
    {
     "data": {
      "image/png": "[encoded data removed]",
      "text/plain": [
       "<Figure size 432x288 with 1 Axes>"
      ]
     },
     "metadata": {
      "needs_background": "light"
     },
     "output_type": "display_data"
    }
   ],
   "source": [
    "plt.hist(wnba[\"STL\"]/wnba[\"MIN\"])\n",
    "plt.show()"
   ]
  },
  {
   "cell_type": "code",
   "execution_count": 20,
   "metadata": {},
   "outputs": [
    {
     "data": {
      "image/png": "[encoded data removed]",
      "text/plain": [
       "<Figure size 432x288 with 1 Axes>"
      ]
     },
     "metadata": {
      "needs_background": "light"
     },
     "output_type": "display_data"
    }
   ],
   "source": [
    "plt.hist(wnba[\"PTS\"]/wnba[\"MIN\"])\n",
    "plt.show()"
   ]
  },
  {
   "cell_type": "code",
   "execution_count": 21,
   "metadata": {},
   "outputs": [
    {
     "data": {
      "image/png": "[encoded data removed]",
      "text/plain": [
       "<Figure size 432x288 with 1 Axes>"
      ]
     },
     "metadata": {
      "needs_background": "light"
     },
     "output_type": "display_data"
    }
   ],
   "source": [
    "plt.hist(wnba[\"BLK\"]/wnba[\"MIN\"])\n",
    "plt.show()"
   ]
  },
  {
   "cell_type": "markdown",
   "metadata": {},
   "source": [
    "**What conclusions do you think we can take from this plots?**"
   ]
  },
  {
   "cell_type": "code",
   "execution_count": 22,
   "metadata": {},
   "outputs": [],
   "source": [
    "#your conclusions here\n",
    "\n",
    "# most of the plots are not that much skrewed to the right anymore\n",
    "\n",
    "# the remaining skrewness can be explained with the distribution of talent"
   ]
  },
  {
   "cell_type": "markdown",
   "metadata": {},
   "source": [
    "### Summary\n",
    "\n",
    "The main insights we obtained from this exploratory analysis are:\n",
    "- Game-related stats have a very high range of values.\n",
    "- There are some extremes in the weight and age columns.\n",
    "- The physical characteristics of the players more or less follow a standard distribution.\n",
    "- We need to take into account that our dataset contains data on both players that play the majority of games and also players that may spend almost the entirety of the season on the bench.\n",
    "\n",
    "Now, it's time to try to put an end to your family's discussions. As seen on the README, the main discussions are:\n",
    "- Your grandmother says that your sister couldn't play in a professional basketball league (not only the WNBA, but ANY professional basketball league) because she's too skinny and lacks muscle.\n",
    "- Your sister says that most female professional players fail their free throws.\n",
    "- Your brother-in-law heard on the TV that the average assists among NBA (male) and WNBA (female) players is 52 for the 2016-2017 season. He is convinced this average would be higher if we only considered the players from the WNBA.\n",
    "\n",
    "**Do you think you have all the necessary data to answer these questions?**"
   ]
  },
  {
   "cell_type": "code",
   "execution_count": 31,
   "metadata": {},
   "outputs": [
    {
     "name": "stdout",
     "output_type": "stream",
     "text": [
      "75.82887323943662\n",
      "44.514084507042256\n"
     ]
    }
   ],
   "source": [
    "#your comments here\n",
    "\n",
    "# 1) no, we cannot answer this because we don't know about the muscels of the players\n",
    "\n",
    "# 2) we have data regarding free throws so we could answer the question, if we would now which rate is considered \"failing\"\n",
    "        # the average success of free throws is 75.8% which is not bad I guess (no clue about basketball)\n",
    "ft_avg = wnba[\"FT%\"].sum()/len(wnba)\n",
    "\n",
    "print(ft_avg)\n",
    "\n",
    "# 3) we can answer this because we have the amount of assists given \n",
    "        # it is false\n",
    "\n",
    "ast_avg = wnba[\"AST\"].sum()/len(wnba)\n",
    "\n",
    "print(ast_avg)"
   ]
  },
  {
   "cell_type": "code",
   "execution_count": 26,
   "metadata": {},
   "outputs": [
    {
     "data": {
      "text/html": [
       "<div>\n",
       "<style scoped>\n",
       "    .dataframe tbody tr th:only-of-type {\n",
       "        vertical-align: middle;\n",
       "    }\n",
       "\n",
       "    .dataframe tbody tr th {\n",
       "        vertical-align: top;\n",
       "    }\n",
       "\n",
       "    .dataframe thead th {\n",
       "        text-align: right;\n",
       "    }\n",
       "</style>\n",
       "<table border=\"1\" class=\"dataframe\">\n",
       "  <thead>\n",
       "    <tr style=\"text-align: right;\">\n",
       "      <th></th>\n",
       "      <th>Name</th>\n",
       "      <th>Team</th>\n",
       "      <th>Pos</th>\n",
       "      <th>Height</th>\n",
       "      <th>Weight</th>\n",
       "      <th>BMI</th>\n",
       "      <th>Birth_Place</th>\n",
       "      <th>Birthdate</th>\n",
       "      <th>Age</th>\n",
       "      <th>College</th>\n",
       "      <th>Experience</th>\n",
       "      <th>Games Played</th>\n",
       "      <th>MIN</th>\n",
       "      <th>FGM</th>\n",
       "      <th>FGA</th>\n",
       "      <th>FG%</th>\n",
       "      <th>3PM</th>\n",
       "      <th>3PA</th>\n",
       "      <th>3P%</th>\n",
       "      <th>FTM</th>\n",
       "      <th>FTA</th>\n",
       "      <th>FT%</th>\n",
       "      <th>OREB</th>\n",
       "      <th>DREB</th>\n",
       "      <th>REB</th>\n",
       "      <th>AST</th>\n",
       "      <th>STL</th>\n",
       "      <th>BLK</th>\n",
       "      <th>TO</th>\n",
       "      <th>PTS</th>\n",
       "      <th>DD2</th>\n",
       "      <th>TD3</th>\n",
       "    </tr>\n",
       "  </thead>\n",
       "  <tbody>\n",
       "    <tr>\n",
       "      <th>0</th>\n",
       "      <td>Aerial Powers</td>\n",
       "      <td>DAL</td>\n",
       "      <td>F</td>\n",
       "      <td>183</td>\n",
       "      <td>71</td>\n",
       "      <td>21.200991</td>\n",
       "      <td>US</td>\n",
       "      <td>January 17, 1994</td>\n",
       "      <td>23</td>\n",
       "      <td>Michigan State</td>\n",
       "      <td>2</td>\n",
       "      <td>8</td>\n",
       "      <td>173</td>\n",
       "      <td>30</td>\n",
       "      <td>85</td>\n",
       "      <td>35.3</td>\n",
       "      <td>12</td>\n",
       "      <td>32</td>\n",
       "      <td>37.5</td>\n",
       "      <td>21</td>\n",
       "      <td>26</td>\n",
       "      <td>80.8</td>\n",
       "      <td>6</td>\n",
       "      <td>22</td>\n",
       "      <td>28</td>\n",
       "      <td>12</td>\n",
       "      <td>3</td>\n",
       "      <td>6</td>\n",
       "      <td>12</td>\n",
       "      <td>93</td>\n",
       "      <td>0</td>\n",
       "      <td>0</td>\n",
       "    </tr>\n",
       "    <tr>\n",
       "      <th>1</th>\n",
       "      <td>Alana Beard</td>\n",
       "      <td>LA</td>\n",
       "      <td>G/F</td>\n",
       "      <td>185</td>\n",
       "      <td>73</td>\n",
       "      <td>21.329438</td>\n",
       "      <td>US</td>\n",
       "      <td>May 14, 1982</td>\n",
       "      <td>35</td>\n",
       "      <td>Duke</td>\n",
       "      <td>12</td>\n",
       "      <td>30</td>\n",
       "      <td>947</td>\n",
       "      <td>90</td>\n",
       "      <td>177</td>\n",
       "      <td>50.8</td>\n",
       "      <td>5</td>\n",
       "      <td>18</td>\n",
       "      <td>27.8</td>\n",
       "      <td>32</td>\n",
       "      <td>41</td>\n",
       "      <td>78.0</td>\n",
       "      <td>19</td>\n",
       "      <td>82</td>\n",
       "      <td>101</td>\n",
       "      <td>72</td>\n",
       "      <td>63</td>\n",
       "      <td>13</td>\n",
       "      <td>40</td>\n",
       "      <td>217</td>\n",
       "      <td>0</td>\n",
       "      <td>0</td>\n",
       "    </tr>\n",
       "    <tr>\n",
       "      <th>2</th>\n",
       "      <td>Alex Bentley</td>\n",
       "      <td>CON</td>\n",
       "      <td>G</td>\n",
       "      <td>170</td>\n",
       "      <td>69</td>\n",
       "      <td>23.875433</td>\n",
       "      <td>US</td>\n",
       "      <td>October 27, 1990</td>\n",
       "      <td>26</td>\n",
       "      <td>Penn State</td>\n",
       "      <td>4</td>\n",
       "      <td>26</td>\n",
       "      <td>617</td>\n",
       "      <td>82</td>\n",
       "      <td>218</td>\n",
       "      <td>37.6</td>\n",
       "      <td>19</td>\n",
       "      <td>64</td>\n",
       "      <td>29.7</td>\n",
       "      <td>35</td>\n",
       "      <td>42</td>\n",
       "      <td>83.3</td>\n",
       "      <td>4</td>\n",
       "      <td>36</td>\n",
       "      <td>40</td>\n",
       "      <td>78</td>\n",
       "      <td>22</td>\n",
       "      <td>3</td>\n",
       "      <td>24</td>\n",
       "      <td>218</td>\n",
       "      <td>0</td>\n",
       "      <td>0</td>\n",
       "    </tr>\n",
       "    <tr>\n",
       "      <th>3</th>\n",
       "      <td>Alex Montgomery</td>\n",
       "      <td>SAN</td>\n",
       "      <td>G/F</td>\n",
       "      <td>185</td>\n",
       "      <td>84</td>\n",
       "      <td>24.543462</td>\n",
       "      <td>US</td>\n",
       "      <td>December 11, 1988</td>\n",
       "      <td>28</td>\n",
       "      <td>Georgia Tech</td>\n",
       "      <td>6</td>\n",
       "      <td>31</td>\n",
       "      <td>721</td>\n",
       "      <td>75</td>\n",
       "      <td>195</td>\n",
       "      <td>38.5</td>\n",
       "      <td>21</td>\n",
       "      <td>68</td>\n",
       "      <td>30.9</td>\n",
       "      <td>17</td>\n",
       "      <td>21</td>\n",
       "      <td>81.0</td>\n",
       "      <td>35</td>\n",
       "      <td>134</td>\n",
       "      <td>169</td>\n",
       "      <td>65</td>\n",
       "      <td>20</td>\n",
       "      <td>10</td>\n",
       "      <td>38</td>\n",
       "      <td>188</td>\n",
       "      <td>2</td>\n",
       "      <td>0</td>\n",
       "    </tr>\n",
       "    <tr>\n",
       "      <th>4</th>\n",
       "      <td>Alexis Jones</td>\n",
       "      <td>MIN</td>\n",
       "      <td>G</td>\n",
       "      <td>175</td>\n",
       "      <td>78</td>\n",
       "      <td>25.469388</td>\n",
       "      <td>US</td>\n",
       "      <td>August 5, 1994</td>\n",
       "      <td>23</td>\n",
       "      <td>Baylor</td>\n",
       "      <td>R</td>\n",
       "      <td>24</td>\n",
       "      <td>137</td>\n",
       "      <td>16</td>\n",
       "      <td>50</td>\n",
       "      <td>32.0</td>\n",
       "      <td>7</td>\n",
       "      <td>20</td>\n",
       "      <td>35.0</td>\n",
       "      <td>11</td>\n",
       "      <td>12</td>\n",
       "      <td>91.7</td>\n",
       "      <td>3</td>\n",
       "      <td>9</td>\n",
       "      <td>12</td>\n",
       "      <td>12</td>\n",
       "      <td>7</td>\n",
       "      <td>0</td>\n",
       "      <td>14</td>\n",
       "      <td>50</td>\n",
       "      <td>0</td>\n",
       "      <td>0</td>\n",
       "    </tr>\n",
       "    <tr>\n",
       "      <th>...</th>\n",
       "      <td>...</td>\n",
       "      <td>...</td>\n",
       "      <td>...</td>\n",
       "      <td>...</td>\n",
       "      <td>...</td>\n",
       "      <td>...</td>\n",
       "      <td>...</td>\n",
       "      <td>...</td>\n",
       "      <td>...</td>\n",
       "      <td>...</td>\n",
       "      <td>...</td>\n",
       "      <td>...</td>\n",
       "      <td>...</td>\n",
       "      <td>...</td>\n",
       "      <td>...</td>\n",
       "      <td>...</td>\n",
       "      <td>...</td>\n",
       "      <td>...</td>\n",
       "      <td>...</td>\n",
       "      <td>...</td>\n",
       "      <td>...</td>\n",
       "      <td>...</td>\n",
       "      <td>...</td>\n",
       "      <td>...</td>\n",
       "      <td>...</td>\n",
       "      <td>...</td>\n",
       "      <td>...</td>\n",
       "      <td>...</td>\n",
       "      <td>...</td>\n",
       "      <td>...</td>\n",
       "      <td>...</td>\n",
       "      <td>...</td>\n",
       "    </tr>\n",
       "    <tr>\n",
       "      <th>137</th>\n",
       "      <td>Tiffany Hayes</td>\n",
       "      <td>ATL</td>\n",
       "      <td>G</td>\n",
       "      <td>178</td>\n",
       "      <td>70</td>\n",
       "      <td>22.093170</td>\n",
       "      <td>US</td>\n",
       "      <td>September 20, 1989</td>\n",
       "      <td>27</td>\n",
       "      <td>Connecticut</td>\n",
       "      <td>6</td>\n",
       "      <td>29</td>\n",
       "      <td>861</td>\n",
       "      <td>144</td>\n",
       "      <td>331</td>\n",
       "      <td>43.5</td>\n",
       "      <td>43</td>\n",
       "      <td>112</td>\n",
       "      <td>38.4</td>\n",
       "      <td>136</td>\n",
       "      <td>161</td>\n",
       "      <td>84.5</td>\n",
       "      <td>28</td>\n",
       "      <td>89</td>\n",
       "      <td>117</td>\n",
       "      <td>69</td>\n",
       "      <td>37</td>\n",
       "      <td>8</td>\n",
       "      <td>50</td>\n",
       "      <td>467</td>\n",
       "      <td>0</td>\n",
       "      <td>0</td>\n",
       "    </tr>\n",
       "    <tr>\n",
       "      <th>138</th>\n",
       "      <td>Tiffany Jackson</td>\n",
       "      <td>LA</td>\n",
       "      <td>F</td>\n",
       "      <td>191</td>\n",
       "      <td>84</td>\n",
       "      <td>23.025685</td>\n",
       "      <td>US</td>\n",
       "      <td>April 26, 1985</td>\n",
       "      <td>32</td>\n",
       "      <td>Texas</td>\n",
       "      <td>9</td>\n",
       "      <td>22</td>\n",
       "      <td>127</td>\n",
       "      <td>12</td>\n",
       "      <td>25</td>\n",
       "      <td>48.0</td>\n",
       "      <td>0</td>\n",
       "      <td>1</td>\n",
       "      <td>0.0</td>\n",
       "      <td>4</td>\n",
       "      <td>6</td>\n",
       "      <td>66.7</td>\n",
       "      <td>5</td>\n",
       "      <td>18</td>\n",
       "      <td>23</td>\n",
       "      <td>3</td>\n",
       "      <td>1</td>\n",
       "      <td>3</td>\n",
       "      <td>8</td>\n",
       "      <td>28</td>\n",
       "      <td>0</td>\n",
       "      <td>0</td>\n",
       "    </tr>\n",
       "    <tr>\n",
       "      <th>139</th>\n",
       "      <td>Tiffany Mitchell</td>\n",
       "      <td>IND</td>\n",
       "      <td>G</td>\n",
       "      <td>175</td>\n",
       "      <td>69</td>\n",
       "      <td>22.530612</td>\n",
       "      <td>US</td>\n",
       "      <td>September 23, 1984</td>\n",
       "      <td>32</td>\n",
       "      <td>South Carolina</td>\n",
       "      <td>2</td>\n",
       "      <td>27</td>\n",
       "      <td>671</td>\n",
       "      <td>83</td>\n",
       "      <td>238</td>\n",
       "      <td>34.9</td>\n",
       "      <td>17</td>\n",
       "      <td>69</td>\n",
       "      <td>24.6</td>\n",
       "      <td>94</td>\n",
       "      <td>102</td>\n",
       "      <td>92.2</td>\n",
       "      <td>16</td>\n",
       "      <td>70</td>\n",
       "      <td>86</td>\n",
       "      <td>39</td>\n",
       "      <td>31</td>\n",
       "      <td>5</td>\n",
       "      <td>40</td>\n",
       "      <td>277</td>\n",
       "      <td>0</td>\n",
       "      <td>0</td>\n",
       "    </tr>\n",
       "    <tr>\n",
       "      <th>140</th>\n",
       "      <td>Tina Charles</td>\n",
       "      <td>NY</td>\n",
       "      <td>F/C</td>\n",
       "      <td>193</td>\n",
       "      <td>84</td>\n",
       "      <td>22.550941</td>\n",
       "      <td>US</td>\n",
       "      <td>May 12, 1988</td>\n",
       "      <td>29</td>\n",
       "      <td>Connecticut</td>\n",
       "      <td>8</td>\n",
       "      <td>29</td>\n",
       "      <td>952</td>\n",
       "      <td>227</td>\n",
       "      <td>509</td>\n",
       "      <td>44.6</td>\n",
       "      <td>18</td>\n",
       "      <td>56</td>\n",
       "      <td>32.1</td>\n",
       "      <td>110</td>\n",
       "      <td>135</td>\n",
       "      <td>81.5</td>\n",
       "      <td>56</td>\n",
       "      <td>212</td>\n",
       "      <td>268</td>\n",
       "      <td>75</td>\n",
       "      <td>21</td>\n",
       "      <td>22</td>\n",
       "      <td>71</td>\n",
       "      <td>582</td>\n",
       "      <td>11</td>\n",
       "      <td>0</td>\n",
       "    </tr>\n",
       "    <tr>\n",
       "      <th>141</th>\n",
       "      <td>Yvonne Turner</td>\n",
       "      <td>PHO</td>\n",
       "      <td>G</td>\n",
       "      <td>175</td>\n",
       "      <td>59</td>\n",
       "      <td>19.265306</td>\n",
       "      <td>US</td>\n",
       "      <td>October 13, 1987</td>\n",
       "      <td>29</td>\n",
       "      <td>Nebraska</td>\n",
       "      <td>2</td>\n",
       "      <td>30</td>\n",
       "      <td>356</td>\n",
       "      <td>59</td>\n",
       "      <td>140</td>\n",
       "      <td>42.1</td>\n",
       "      <td>11</td>\n",
       "      <td>47</td>\n",
       "      <td>23.4</td>\n",
       "      <td>22</td>\n",
       "      <td>28</td>\n",
       "      <td>78.6</td>\n",
       "      <td>11</td>\n",
       "      <td>13</td>\n",
       "      <td>24</td>\n",
       "      <td>30</td>\n",
       "      <td>18</td>\n",
       "      <td>1</td>\n",
       "      <td>32</td>\n",
       "      <td>151</td>\n",
       "      <td>0</td>\n",
       "      <td>0</td>\n",
       "    </tr>\n",
       "  </tbody>\n",
       "</table>\n",
       "<p>142 rows × 32 columns</p>\n",
       "</div>"
      ],
      "text/plain": [
       "                 Name Team  Pos  Height  Weight        BMI Birth_Place  \\\n",
       "0       Aerial Powers  DAL    F     183      71  21.200991          US   \n",
       "1         Alana Beard   LA  G/F     185      73  21.329438          US   \n",
       "2        Alex Bentley  CON    G     170      69  23.875433          US   \n",
       "3     Alex Montgomery  SAN  G/F     185      84  24.543462          US   \n",
       "4        Alexis Jones  MIN    G     175      78  25.469388          US   \n",
       "..                ...  ...  ...     ...     ...        ...         ...   \n",
       "137     Tiffany Hayes  ATL    G     178      70  22.093170          US   \n",
       "138   Tiffany Jackson   LA    F     191      84  23.025685          US   \n",
       "139  Tiffany Mitchell  IND    G     175      69  22.530612          US   \n",
       "140      Tina Charles   NY  F/C     193      84  22.550941          US   \n",
       "141     Yvonne Turner  PHO    G     175      59  19.265306          US   \n",
       "\n",
       "              Birthdate  Age         College Experience  Games Played  MIN  \\\n",
       "0      January 17, 1994   23  Michigan State          2             8  173   \n",
       "1          May 14, 1982   35            Duke         12            30  947   \n",
       "2      October 27, 1990   26      Penn State          4            26  617   \n",
       "3     December 11, 1988   28    Georgia Tech          6            31  721   \n",
       "4        August 5, 1994   23          Baylor          R            24  137   \n",
       "..                  ...  ...             ...        ...           ...  ...   \n",
       "137  September 20, 1989   27     Connecticut          6            29  861   \n",
       "138      April 26, 1985   32           Texas          9            22  127   \n",
       "139  September 23, 1984   32  South Carolina          2            27  671   \n",
       "140        May 12, 1988   29     Connecticut          8            29  952   \n",
       "141    October 13, 1987   29        Nebraska          2            30  356   \n",
       "\n",
       "     FGM  FGA   FG%  3PM  3PA   3P%  FTM  FTA   FT%  OREB  DREB  REB  AST  \\\n",
       "0     30   85  35.3   12   32  37.5   21   26  80.8     6    22   28   12   \n",
       "1     90  177  50.8    5   18  27.8   32   41  78.0    19    82  101   72   \n",
       "2     82  218  37.6   19   64  29.7   35   42  83.3     4    36   40   78   \n",
       "3     75  195  38.5   21   68  30.9   17   21  81.0    35   134  169   65   \n",
       "4     16   50  32.0    7   20  35.0   11   12  91.7     3     9   12   12   \n",
       "..   ...  ...   ...  ...  ...   ...  ...  ...   ...   ...   ...  ...  ...   \n",
       "137  144  331  43.5   43  112  38.4  136  161  84.5    28    89  117   69   \n",
       "138   12   25  48.0    0    1   0.0    4    6  66.7     5    18   23    3   \n",
       "139   83  238  34.9   17   69  24.6   94  102  92.2    16    70   86   39   \n",
       "140  227  509  44.6   18   56  32.1  110  135  81.5    56   212  268   75   \n",
       "141   59  140  42.1   11   47  23.4   22   28  78.6    11    13   24   30   \n",
       "\n",
       "     STL  BLK  TO  PTS  DD2  TD3  \n",
       "0      3    6  12   93    0    0  \n",
       "1     63   13  40  217    0    0  \n",
       "2     22    3  24  218    0    0  \n",
       "3     20   10  38  188    2    0  \n",
       "4      7    0  14   50    0    0  \n",
       "..   ...  ...  ..  ...  ...  ...  \n",
       "137   37    8  50  467    0    0  \n",
       "138    1    3   8   28    0    0  \n",
       "139   31    5  40  277    0    0  \n",
       "140   21   22  71  582   11    0  \n",
       "141   18    1  32  151    0    0  \n",
       "\n",
       "[142 rows x 32 columns]"
      ]
     },
     "execution_count": 26,
     "metadata": {},
     "output_type": "execute_result"
    }
   ],
   "source": [
    "wnba"
   ]
  },
  {
   "cell_type": "code",
   "execution_count": null,
   "metadata": {},
   "outputs": [],
   "source": []
  }
 ],
 "metadata": {
  "interpreter": {
   "hash": "ecb3fb6d188ff4619f90ca2a35ca6f2ca1746fcd172f4f953b4f0c73e8f5124d"
  },
  "kernelspec": {
   "display_name": "Python 3.8.5 ('projectsql')",
   "language": "python",
   "name": "python3"
  },
  "language_info": {
   "codemirror_mode": {
    "name": "ipython",
    "version": 3
   },
   "file_extension": ".py",
   "mimetype": "text/x-python",
   "name": "python",
   "nbconvert_exporter": "python",
   "pygments_lexer": "ipython3",
   "version": "3.8.5"
  }
 },
 "nbformat": 4,
 "nbformat_minor": 2
}
